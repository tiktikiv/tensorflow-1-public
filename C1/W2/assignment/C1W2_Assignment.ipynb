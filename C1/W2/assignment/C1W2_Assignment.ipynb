{
 "cells": [
  {
   "cell_type": "markdown",
   "metadata": {
    "id": "_2s0EJ5Fy4u2"
   },
   "source": [
    "# Week 2: Implementing Callbacks in TensorFlow using the MNIST Dataset\n",
    "\n",
    "In the course you learned how to do classification using Fashion MNIST, a data set containing items of clothing. There's another, similar dataset called MNIST which has items of handwriting -- the digits 0 through 9.\n",
    "\n",
    "Write an MNIST classifier that trains to 99% accuracy or above, and does it without a fixed number of epochs -- i.e. you should stop training once you reach that level of accuracy. In the lecture you saw how this was done for the loss but here you will be using accuracy instead.\n",
    "\n",
    "Some notes:\n",
    "1. Given the architecture of the net, it should succeed in less than 10 epochs.\n",
    "2. When it reaches 99% or greater it should print out the string \"Reached 99% accuracy so cancelling training!\" and stop training.\n",
    "3. If you add any additional variables, make sure you use the same names as the ones used in the class. This is important for the function signatures (the parameters and names) of the callbacks."
   ]
  },
  {
   "cell_type": "code",
   "execution_count": 1,
   "metadata": {
    "id": "djVOgMHty4u3"
   },
   "outputs": [],
   "source": [
    "import os\n",
    "import tensorflow as tf\n",
    "from tensorflow import keras"
   ]
  },
  {
   "cell_type": "markdown",
   "metadata": {},
   "source": [
    "Begin by loading the data. A couple of things to notice:\n",
    "\n",
    "- The file `mnist.npz` is already included in the current workspace under the `data` directory. By default the `load_data` from Keras accepts a path relative to `~/.keras/datasets` but in this case it is stored somewhere else, as a result of this, you need to specify the full path.\n",
    "\n",
    "- `load_data` returns the train and test sets in the form of the tuples `(x_train, y_train), (x_test, y_test)` but in this exercise you will be needing only the train set so you can ignore the second tuple."
   ]
  },
  {
   "cell_type": "code",
   "execution_count": 5,
   "metadata": {},
   "outputs": [
    {
     "name": "stdout",
     "output_type": "stream",
     "text": [
      "Downloading data from https://storage.googleapis.com/tensorflow/tf-keras-datasets/mnist.npz\n"
     ]
    },
    {
     "ename": "FileNotFoundError",
     "evalue": "[Errno 2] No such file or directory: 'n:\\\\A PROJECT S1\\\\Semester 6\\\\1. BANGKIT\\\\Minggu 7\\\\tensorflow-1-public\\\\C1\\\\W2\\\\assignment\\\\data/mnist.npz'",
     "output_type": "error",
     "traceback": [
      "\u001b[1;31m---------------------------------------------------------------------------\u001b[0m",
      "\u001b[1;31mFileNotFoundError\u001b[0m                         Traceback (most recent call last)",
      "\u001b[1;32mn:\\A PROJECT S1\\Semester 6\\1. BANGKIT\\Minggu 7\\tensorflow-1-public\\C1\\W2\\assignment\\C1W2_Assignment.ipynb Cell 4'\u001b[0m in \u001b[0;36m<cell line: 10>\u001b[1;34m()\u001b[0m\n\u001b[0;32m      <a href='vscode-notebook-cell:/n%3A/A%20PROJECT%20S1/Semester%206/1.%20BANGKIT/Minggu%207/tensorflow-1-public/C1/W2/assignment/C1W2_Assignment.ipynb#ch0000003?line=6'>7</a>\u001b[0m data_path \u001b[39m=\u001b[39m os\u001b[39m.\u001b[39mpath\u001b[39m.\u001b[39mjoin(current_dir, \u001b[39m\"\u001b[39m\u001b[39mdata/mnist.npz\u001b[39m\u001b[39m\"\u001b[39m)\n\u001b[0;32m      <a href='vscode-notebook-cell:/n%3A/A%20PROJECT%20S1/Semester%206/1.%20BANGKIT/Minggu%207/tensorflow-1-public/C1/W2/assignment/C1W2_Assignment.ipynb#ch0000003?line=8'>9</a>\u001b[0m \u001b[39m# Discard test set\u001b[39;00m\n\u001b[1;32m---> <a href='vscode-notebook-cell:/n%3A/A%20PROJECT%20S1/Semester%206/1.%20BANGKIT/Minggu%207/tensorflow-1-public/C1/W2/assignment/C1W2_Assignment.ipynb#ch0000003?line=9'>10</a>\u001b[0m (x_train, y_train), _ \u001b[39m=\u001b[39m tf\u001b[39m.\u001b[39;49mkeras\u001b[39m.\u001b[39;49mdatasets\u001b[39m.\u001b[39;49mmnist\u001b[39m.\u001b[39;49mload_data(path\u001b[39m=\u001b[39;49mdata_path)\n\u001b[0;32m     <a href='vscode-notebook-cell:/n%3A/A%20PROJECT%20S1/Semester%206/1.%20BANGKIT/Minggu%207/tensorflow-1-public/C1/W2/assignment/C1W2_Assignment.ipynb#ch0000003?line=11'>12</a>\u001b[0m \u001b[39m# Normalize pixel values\u001b[39;00m\n\u001b[0;32m     <a href='vscode-notebook-cell:/n%3A/A%20PROJECT%20S1/Semester%206/1.%20BANGKIT/Minggu%207/tensorflow-1-public/C1/W2/assignment/C1W2_Assignment.ipynb#ch0000003?line=12'>13</a>\u001b[0m x_train \u001b[39m=\u001b[39m x_train \u001b[39m/\u001b[39m \u001b[39m255.0\u001b[39m\n",
      "File \u001b[1;32m~\\AppData\\Local\\Programs\\Python\\Python310\\lib\\site-packages\\keras\\datasets\\mnist.py:71\u001b[0m, in \u001b[0;36mload_data\u001b[1;34m(path)\u001b[0m\n\u001b[0;32m     <a href='file:///c%3A/Users/muhiv/AppData/Local/Programs/Python/Python310/lib/site-packages/keras/datasets/mnist.py?line=24'>25</a>\u001b[0m \u001b[39m\"\"\"Loads the MNIST dataset.\u001b[39;00m\n\u001b[0;32m     <a href='file:///c%3A/Users/muhiv/AppData/Local/Programs/Python/Python310/lib/site-packages/keras/datasets/mnist.py?line=25'>26</a>\u001b[0m \n\u001b[0;32m     <a href='file:///c%3A/Users/muhiv/AppData/Local/Programs/Python/Python310/lib/site-packages/keras/datasets/mnist.py?line=26'>27</a>\u001b[0m \u001b[39mThis is a dataset of 60,000 28x28 grayscale images of the 10 digits,\u001b[39;00m\n\u001b[1;32m   (...)\u001b[0m\n\u001b[0;32m     <a href='file:///c%3A/Users/muhiv/AppData/Local/Programs/Python/Python310/lib/site-packages/keras/datasets/mnist.py?line=67'>68</a>\u001b[0m \u001b[39m  https://creativecommons.org/licenses/by-sa/3.0/)\u001b[39;00m\n\u001b[0;32m     <a href='file:///c%3A/Users/muhiv/AppData/Local/Programs/Python/Python310/lib/site-packages/keras/datasets/mnist.py?line=68'>69</a>\u001b[0m \u001b[39m\"\"\"\u001b[39;00m\n\u001b[0;32m     <a href='file:///c%3A/Users/muhiv/AppData/Local/Programs/Python/Python310/lib/site-packages/keras/datasets/mnist.py?line=69'>70</a>\u001b[0m origin_folder \u001b[39m=\u001b[39m \u001b[39m'\u001b[39m\u001b[39mhttps://storage.googleapis.com/tensorflow/tf-keras-datasets/\u001b[39m\u001b[39m'\u001b[39m\n\u001b[1;32m---> <a href='file:///c%3A/Users/muhiv/AppData/Local/Programs/Python/Python310/lib/site-packages/keras/datasets/mnist.py?line=70'>71</a>\u001b[0m path \u001b[39m=\u001b[39m get_file(\n\u001b[0;32m     <a href='file:///c%3A/Users/muhiv/AppData/Local/Programs/Python/Python310/lib/site-packages/keras/datasets/mnist.py?line=71'>72</a>\u001b[0m     path,\n\u001b[0;32m     <a href='file:///c%3A/Users/muhiv/AppData/Local/Programs/Python/Python310/lib/site-packages/keras/datasets/mnist.py?line=72'>73</a>\u001b[0m     origin\u001b[39m=\u001b[39;49morigin_folder \u001b[39m+\u001b[39;49m \u001b[39m'\u001b[39;49m\u001b[39mmnist.npz\u001b[39;49m\u001b[39m'\u001b[39;49m,\n\u001b[0;32m     <a href='file:///c%3A/Users/muhiv/AppData/Local/Programs/Python/Python310/lib/site-packages/keras/datasets/mnist.py?line=73'>74</a>\u001b[0m     file_hash\u001b[39m=\u001b[39;49m\n\u001b[0;32m     <a href='file:///c%3A/Users/muhiv/AppData/Local/Programs/Python/Python310/lib/site-packages/keras/datasets/mnist.py?line=74'>75</a>\u001b[0m     \u001b[39m'\u001b[39;49m\u001b[39m731c5ac602752760c8e48fbffcf8c3b850d9dc2a2aedcf2cc48468fc17b673d1\u001b[39;49m\u001b[39m'\u001b[39;49m)\n\u001b[0;32m     <a href='file:///c%3A/Users/muhiv/AppData/Local/Programs/Python/Python310/lib/site-packages/keras/datasets/mnist.py?line=75'>76</a>\u001b[0m \u001b[39mwith\u001b[39;00m np\u001b[39m.\u001b[39mload(path, allow_pickle\u001b[39m=\u001b[39m\u001b[39mTrue\u001b[39;00m) \u001b[39mas\u001b[39;00m f:  \u001b[39m# pylint: disable=unexpected-keyword-arg\u001b[39;00m\n\u001b[0;32m     <a href='file:///c%3A/Users/muhiv/AppData/Local/Programs/Python/Python310/lib/site-packages/keras/datasets/mnist.py?line=76'>77</a>\u001b[0m   x_train, y_train \u001b[39m=\u001b[39m f[\u001b[39m'\u001b[39m\u001b[39mx_train\u001b[39m\u001b[39m'\u001b[39m], f[\u001b[39m'\u001b[39m\u001b[39my_train\u001b[39m\u001b[39m'\u001b[39m]\n",
      "File \u001b[1;32m~\\AppData\\Local\\Programs\\Python\\Python310\\lib\\site-packages\\keras\\utils\\data_utils.py:277\u001b[0m, in \u001b[0;36mget_file\u001b[1;34m(fname, origin, untar, md5_hash, file_hash, cache_subdir, hash_algorithm, extract, archive_format, cache_dir)\u001b[0m\n\u001b[0;32m    <a href='file:///c%3A/Users/muhiv/AppData/Local/Programs/Python/Python310/lib/site-packages/keras/utils/data_utils.py?line=274'>275</a>\u001b[0m \u001b[39mtry\u001b[39;00m:\n\u001b[0;32m    <a href='file:///c%3A/Users/muhiv/AppData/Local/Programs/Python/Python310/lib/site-packages/keras/utils/data_utils.py?line=275'>276</a>\u001b[0m   \u001b[39mtry\u001b[39;00m:\n\u001b[1;32m--> <a href='file:///c%3A/Users/muhiv/AppData/Local/Programs/Python/Python310/lib/site-packages/keras/utils/data_utils.py?line=276'>277</a>\u001b[0m     urlretrieve(origin, fpath, dl_progress)\n\u001b[0;32m    <a href='file:///c%3A/Users/muhiv/AppData/Local/Programs/Python/Python310/lib/site-packages/keras/utils/data_utils.py?line=277'>278</a>\u001b[0m   \u001b[39mexcept\u001b[39;00m urllib\u001b[39m.\u001b[39merror\u001b[39m.\u001b[39mHTTPError \u001b[39mas\u001b[39;00m e:\n\u001b[0;32m    <a href='file:///c%3A/Users/muhiv/AppData/Local/Programs/Python/Python310/lib/site-packages/keras/utils/data_utils.py?line=278'>279</a>\u001b[0m     \u001b[39mraise\u001b[39;00m \u001b[39mException\u001b[39;00m(error_msg\u001b[39m.\u001b[39mformat(origin, e\u001b[39m.\u001b[39mcode, e\u001b[39m.\u001b[39mmsg))\n",
      "File \u001b[1;32m~\\AppData\\Local\\Programs\\Python\\Python310\\lib\\site-packages\\keras\\utils\\data_utils.py:83\u001b[0m, in \u001b[0;36murlretrieve\u001b[1;34m(url, filename, reporthook, data)\u001b[0m\n\u001b[0;32m     <a href='file:///c%3A/Users/muhiv/AppData/Local/Programs/Python/Python310/lib/site-packages/keras/utils/data_utils.py?line=79'>80</a>\u001b[0m       \u001b[39mbreak\u001b[39;00m\n\u001b[0;32m     <a href='file:///c%3A/Users/muhiv/AppData/Local/Programs/Python/Python310/lib/site-packages/keras/utils/data_utils.py?line=81'>82</a>\u001b[0m response \u001b[39m=\u001b[39m urlopen(url, data)\n\u001b[1;32m---> <a href='file:///c%3A/Users/muhiv/AppData/Local/Programs/Python/Python310/lib/site-packages/keras/utils/data_utils.py?line=82'>83</a>\u001b[0m \u001b[39mwith\u001b[39;00m \u001b[39mopen\u001b[39;49m(filename, \u001b[39m'\u001b[39;49m\u001b[39mwb\u001b[39;49m\u001b[39m'\u001b[39;49m) \u001b[39mas\u001b[39;00m fd:\n\u001b[0;32m     <a href='file:///c%3A/Users/muhiv/AppData/Local/Programs/Python/Python310/lib/site-packages/keras/utils/data_utils.py?line=83'>84</a>\u001b[0m   \u001b[39mfor\u001b[39;00m chunk \u001b[39min\u001b[39;00m chunk_read(response, reporthook\u001b[39m=\u001b[39mreporthook):\n\u001b[0;32m     <a href='file:///c%3A/Users/muhiv/AppData/Local/Programs/Python/Python310/lib/site-packages/keras/utils/data_utils.py?line=84'>85</a>\u001b[0m     fd\u001b[39m.\u001b[39mwrite(chunk)\n",
      "\u001b[1;31mFileNotFoundError\u001b[0m: [Errno 2] No such file or directory: 'n:\\\\A PROJECT S1\\\\Semester 6\\\\1. BANGKIT\\\\Minggu 7\\\\tensorflow-1-public\\\\C1\\\\W2\\\\assignment\\\\data/mnist.npz'"
     ]
    }
   ],
   "source": [
    "# Load the data\n",
    "\n",
    "# Get current working directory\n",
    "current_dir = os.getcwd()\n",
    "\n",
    "# Append data/mnist.npz to the previous path to get the full path\n",
    "data_path = os.path.join(current_dir, \"data/mnist.npz\")\n",
    "\n",
    "# Discard test set\n",
    "(x_train, y_train), _ = tf.keras.datasets.mnist.load_data(path=data_path)\n",
    "        \n",
    "# Normalize pixel values\n",
    "x_train = x_train / 255.0"
   ]
  },
  {
   "cell_type": "markdown",
   "metadata": {},
   "source": [
    "Now take a look at the shape of the training data:"
   ]
  },
  {
   "cell_type": "code",
   "execution_count": null,
   "metadata": {},
   "outputs": [],
   "source": [
    "data_shape = x_train.shape\n",
    "\n",
    "print(f\"There are {data_shape[0]} examples with shape ({data_shape[1]}, {data_shape[2]})\")"
   ]
  },
  {
   "cell_type": "markdown",
   "metadata": {},
   "source": [
    "Now it is time to create your own custom callback. For this complete the `myCallback` class and the `on_epoch_end` method in the cell below. If you need some guidance on how to proceed, check out this [link](https://www.tensorflow.org/guide/keras/custom_callback)."
   ]
  },
  {
   "cell_type": "code",
   "execution_count": null,
   "metadata": {},
   "outputs": [],
   "source": [
    "# GRADED CLASS: myCallback\n",
    "### START CODE HERE\n",
    "\n",
    "# Remember to inherit from the correct class\n",
    "class myCallback():\n",
    "        # Define the correct function signature for on_epoch_end\n",
    "        def on_epoch_end(None, None, None=None):\n",
    "            if logs.get('accuracy') is not None and logs.get('accuracy') > 0.99: # @KEEP\n",
    "                print(\"\\nReached 99% accuracy so cancelling training!\") \n",
    "                \n",
    "                # Stop training once the above condition is met\n",
    "                None = None\n",
    "\n",
    "### END CODE HERE\n",
    "\n",
    "\n"
   ]
  },
  {
   "cell_type": "markdown",
   "metadata": {},
   "source": [
    "Now that you have defined your callback it is time to complete the `train_mnist` function below:"
   ]
  },
  {
   "cell_type": "code",
   "execution_count": null,
   "metadata": {
    "id": "rEHcB3kqyHZ6"
   },
   "outputs": [],
   "source": [
    "# GRADED FUNCTION: train_mnist\n",
    "def train_mnist(x_train, y_train):\n",
    "\n",
    "    ### START CODE HERE\n",
    "    \n",
    "    # Instantiate the callback class\n",
    "    callbacks = None\n",
    "    \n",
    "    # Define the model, it should have 3 layers:\n",
    "    # - A Flatten layer that receives inputs with the same shape as the images\n",
    "    # - A Dense layer with 512 units and ReLU activation function\n",
    "    # - A Dense layer with 10 units and softmax activation function\n",
    "    model = tf.keras.models.Sequential([ \n",
    "        None,\n",
    "        None,\n",
    "        None\n",
    "    ]) \n",
    "\n",
    "    # Compile the model\n",
    "    model.compile(optimizer='adam', \n",
    "                  loss='sparse_categorical_crossentropy', \n",
    "                  metrics=['accuracy']) \n",
    "    \n",
    "    # Fit the model for 10 epochs adding the callbacks\n",
    "    # and save the training history\n",
    "    history = model.fit(None, None, epochs=None, callbacks=[None])\n",
    "\n",
    "    ### END CODE HERE\n",
    "\n",
    "    return history"
   ]
  },
  {
   "cell_type": "markdown",
   "metadata": {},
   "source": [
    "Call the `train_mnist` passing in the appropiate parameters to get the training history:"
   ]
  },
  {
   "cell_type": "code",
   "execution_count": null,
   "metadata": {
    "id": "sFgpwbGly4u4"
   },
   "outputs": [],
   "source": [
    "hist = train_mnist(x_train, y_train)"
   ]
  },
  {
   "cell_type": "markdown",
   "metadata": {},
   "source": [
    "If you see the message `Reached 99% accuracy so cancelling training!` printed out after less than 10 epochs it means your callback worked as expected. "
   ]
  },
  {
   "cell_type": "markdown",
   "metadata": {},
   "source": [
    "**Congratulations on finishing this week's assignment!**\n",
    "\n",
    "You have successfully implemented a callback that gives you more control over the training loop for your model. Nice job!\n",
    "\n",
    "**Keep it up!**"
   ]
  }
 ],
 "metadata": {
  "jupytext": {
   "main_language": "python"
  },
  "kernelspec": {
   "display_name": "Python 3",
   "language": "python",
   "name": "python3"
  },
  "language_info": {
   "codemirror_mode": {
    "name": "ipython",
    "version": 3
   },
   "file_extension": ".py",
   "mimetype": "text/x-python",
   "name": "python",
   "nbconvert_exporter": "python",
   "pygments_lexer": "ipython3",
   "version": "3.8.8"
  }
 },
 "nbformat": 4,
 "nbformat_minor": 4
}
